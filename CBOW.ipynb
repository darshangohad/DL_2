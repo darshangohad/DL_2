{
 "cells": [
  {
   "cell_type": "code",
   "execution_count": 54,
   "metadata": {
    "id": "llybRaNGmemm"
   },
   "outputs": [],
   "source": [
    "import tensorflow as tf\n",
    "from tensorflow.keras.models import Sequential\n",
    "from tensorflow.keras.layers import Dense, Embedding, Lambda\n",
    "from tensorflow.keras.preprocessing.text import Tokenizer\n",
    "import numpy as np\n",
    "import matplotlib.pyplot as plt\n",
    "from sklearn.decomposition import PCA\n",
    "from tensorflow.keras.utils import to_categorical\n",
    "\n"
   ]
  },
  {
   "cell_type": "code",
   "execution_count": 55,
   "metadata": {
    "id": "1NBcI8nAih4a"
   },
   "outputs": [],
   "source": [
    "corpus = [\"I enjoy learning NLP and machine learning\",\n",
    "          \"CBOW is an interesting model for word embeddings\",\n",
    "          \"Understanding word context is important for NLP\"]"
   ]
  },
  {
   "cell_type": "code",
   "execution_count": 56,
   "metadata": {
    "colab": {
     "base_uri": "https://localhost:8080/"
    },
    "id": "WoGrIB60myh3",
    "outputId": "542cbb92-0dbb-4685-f4f0-0ea7c518692b"
   },
   "outputs": [
    {
     "name": "stdout",
     "output_type": "stream",
     "text": [
      "After converting our words in corpus into vector of integers: \n",
      "[[6, 7, 1, 2, 8, 9, 1], [10, 3, 11, 12, 13, 4, 5, 14], [15, 5, 16, 3, 17, 4, 2]]\n"
     ]
    }
   ],
   "source": [
    "# Convert the corpus to a sequence of integers\n",
    "tokenizer = Tokenizer()\n",
    "tokenizer.fit_on_texts(corpus)\n",
    "sequences = tokenizer.texts_to_sequences(corpus)\n",
    "print(\"After converting our words in corpus into vector of integers: \")\n",
    "print(sequences)"
   ]
  },
  {
   "cell_type": "markdown",
   "metadata": {
    "id": "xXv6w-p0nOTc"
   },
   "source": [
    "Now, we will build the CBOW model having window size = 2.\n",
    "\n"
   ]
  },
  {
   "cell_type": "code",
   "execution_count": 57,
   "metadata": {
    "id": "lcsOrJimnDqq"
   },
   "outputs": [],
   "source": [
    "vocab_size = len(tokenizer.word_index) + 1\n",
    "embedding_size = 10\n",
    "window_size = 3\n",
    "\n",
    "# Generate context-target pairs\n",
    "contexts = []\n",
    "targets = []\n",
    "for seq in sequences:\n",
    "  for i in range(window_size, len(seq) - window_size):\n",
    "    context = seq[i-window_size:i] + seq[i+1 : i+window_size+1]\n",
    "    target = seq[i]\n",
    "    contexts.append(context)\n",
    "    targets.append(target)\n",
    "\n",
    "X = np.array(contexts)\n",
    "y = to_categorical(targets, vocab_size)"
   ]
  },
  {
   "cell_type": "code",
   "execution_count": 58,
   "metadata": {
    "colab": {
     "base_uri": "https://localhost:8080/"
    },
    "id": "ObjGanrooDQX",
    "outputId": "7f45073c-5a5c-46c4-da8d-a9269c152139"
   },
   "outputs": [
    {
     "data": {
      "text/plain": [
       "array([[ 6,  7,  1,  8,  9,  1],\n",
       "       [10,  3, 11, 13,  4,  5],\n",
       "       [ 3, 11, 12,  4,  5, 14],\n",
       "       [15,  5, 16, 17,  4,  2]])"
      ]
     },
     "execution_count": 58,
     "metadata": {},
     "output_type": "execute_result"
    }
   ],
   "source": [
    "X"
   ]
  },
  {
   "cell_type": "markdown",
   "metadata": {
    "id": "hbxsmH8MoH6A"
   },
   "source": [
    "#### Define CBOW model"
   ]
  },
  {
   "cell_type": "code",
   "execution_count": 59,
   "metadata": {
    "colab": {
     "base_uri": "https://localhost:8080/"
    },
    "id": "D4pRIrnFoEIj",
    "outputId": "7840ae88-401b-4e0c-d9df-b55acd320400"
   },
   "outputs": [
    {
     "name": "stderr",
     "output_type": "stream",
     "text": [
      "/usr/local/lib/python3.10/dist-packages/keras/src/layers/core/embedding.py:90: UserWarning: Argument `input_length` is deprecated. Just remove it.\n",
      "  warnings.warn(\n"
     ]
    }
   ],
   "source": [
    "model = Sequential([\n",
    "    Embedding(input_dim=vocab_size,\n",
    "              output_dim=embedding_size,\n",
    "              input_length=2*window_size),\n",
    "    Lambda(lambda x: tf.reduce_mean(x, axis=1)),\n",
    "    Dense(units=vocab_size,activation='softmax')\n",
    "])"
   ]
  },
  {
   "cell_type": "code",
   "execution_count": null,
   "metadata": {
    "id": "kwj25icIqYum"
   },
   "outputs": [],
   "source": [
    "model.compile(optimizer='adam', loss='categorical_crossentropy')"
   ]
  },
  {
   "cell_type": "code",
   "execution_count": 61,
   "metadata": {
    "colab": {
     "base_uri": "https://localhost:8080/"
    },
    "id": "YnJ4KxJerPT_",
    "outputId": "c9bf434e-1ab5-4aea-fbb9-d3fa1bd97d23"
   },
   "outputs": [
    {
     "name": "stdout",
     "output_type": "stream",
     "text": [
      "\u001b[1m1/1\u001b[0m \u001b[32m━━━━━━━━━━━━━━━━━━━━\u001b[0m\u001b[37m\u001b[0m \u001b[1m0s\u001b[0m 165ms/step\n"
     ]
    },
    {
     "data": {
      "text/plain": [
       "array([[0.05475593, 0.05580952, 0.0553152 , 0.05690454, 0.05541312,\n",
       "        0.05582961, 0.05538801, 0.05595809, 0.05653382, 0.05560636,\n",
       "        0.05522516, 0.05571789, 0.05536423, 0.05532612, 0.05448635,\n",
       "        0.05517524, 0.05607831, 0.05511254]], dtype=float32)"
      ]
     },
     "execution_count": 61,
     "metadata": {},
     "output_type": "execute_result"
    }
   ],
   "source": [
    "model.predict(X[:1])  # Initialize weights by making a prediction"
   ]
  },
  {
   "cell_type": "code",
   "execution_count": 62,
   "metadata": {
    "colab": {
     "base_uri": "https://localhost:8080/"
    },
    "id": "WJBCyIXCrSvW",
    "outputId": "a3a113bb-da66-4e82-be47-70f9d8931215"
   },
   "outputs": [
    {
     "data": {
      "text/plain": [
       "<keras.src.callbacks.history.History at 0x7c3e5f5230a0>"
      ]
     },
     "execution_count": 62,
     "metadata": {},
     "output_type": "execute_result"
    }
   ],
   "source": [
    "# Train the model\n",
    "model.fit(X, y, epochs=100, verbose=0)\n"
   ]
  },
  {
   "cell_type": "code",
   "execution_count": 63,
   "metadata": {
    "colab": {
     "base_uri": "https://localhost:8080/",
     "height": 445
    },
    "id": "ppqCQSGzoiX6",
    "outputId": "5bf3caf1-d90b-45f5-beb0-a1184fcc4c57"
   },
   "outputs": [
    {
     "data": {
      "image/png": "[encoded data removed]",
      "text/plain": [
       "<Figure size 500x500 with 1 Axes>"
      ]
     },
     "metadata": {},
     "output_type": "display_data"
    }
   ],
   "source": [
    "embeddings = model.get_weights()[0]\n",
    "\n",
    "# Perform PCA to reduce the dimensionality\n",
    "# of the embeddings\n",
    "pca = PCA(n_components=2)\n",
    "reduced_embeddings = pca.fit_transform(embeddings)\n",
    "\n",
    "# Visualize the embeddings\n",
    "plt.figure(figsize=(5, 5))\n",
    "for i, word in enumerate(tokenizer.word_index.keys()):\n",
    "    x, y = reduced_embeddings[i]\n",
    "    plt.scatter(x, y)\n",
    "    plt.annotate(word, xy=(x, y), xytext=(5, 2),\n",
    "                 textcoords='offset points',\n",
    "                 ha='right', va='bottom')\n",
    "plt.show()\n"
   ]
  }
 ],
 "metadata": {
  "colab": {
   "provenance": []
  },
  "kernelspec": {
   "display_name": "Python 3",
   "name": "python3"
  },
  "language_info": {
   "name": "python"
  }
 },
 "nbformat": 4,
 "nbformat_minor": 0
}
